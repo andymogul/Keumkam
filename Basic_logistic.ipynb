{
 "cells": [
  {
   "cell_type": "code",
   "execution_count": 8,
   "metadata": {
    "collapsed": true
   },
   "outputs": [],
   "source": [
    "import pandas as pd"
   ]
  },
  {
   "cell_type": "code",
   "execution_count": 33,
   "metadata": {
    "collapsed": false
   },
   "outputs": [],
   "source": [
    "#loading data\n",
    "\n",
    "data_BIS = pd.read_csv(\"C:/Users/Bumho/Documents/Keumkamwon/data/data_BIS.csv\", encoding = \"UTF-8\")\n",
    "data_Yeoshin = pd.read_csv(\"C:/Users/Bumho/Documents/Keumkamwon/data/data_Yeoshin.csv\", encoding = \"UTF-8\")\n",
    "data_ROA = pd.read_csv(\"C:/Users/Bumho/Documents/Keumkamwon/data/data_ROA.csv\", encoding = \"UTF-8\")\n",
    "data_self = pd.read_csv(\"C:/Users/Bumho/Documents/Keumkamwon/data/data_self.csv\", encoding = \"UTF-8\")\n",
    "\n",
    "data_BIS = data_BIS.rename(columns = {'a' : 'BIS'})\n",
    "data_Yeoshin = data_Yeoshin.rename(columns = {'a' : 'Yeoshin'})\n",
    "data_ROA = data_ROA.rename(columns = {'a' : 'ROA'})\n",
    "data_self = data_self.rename(columns = {'a' : 'self'})"
   ]
  },
  {
   "cell_type": "code",
   "execution_count": 34,
   "metadata": {
    "collapsed": true
   },
   "outputs": [],
   "source": [
    "#merging two dataframes\n",
    "\n",
    "record_id_BIS = []\n",
    "record_id_Yeoshin = []\n",
    "record_id_ROA = []\n",
    "record_id_self = []\n",
    "\n",
    "for i in range(data_BIS.shape[0]):\n",
    "    record_id_BIS.append(str(data_BIS.iloc[i]['finance_cd']) + ' ' + str(data_BIS.iloc[i]['base_month']))\n",
    "\n",
    "for i in range(data_Yeoshin.shape[0]):\n",
    "    record_id_Yeoshin.append(str(data_Yeoshin.iloc[i]['finance_cd']) + ' ' + str(data_Yeoshin.iloc[i]['base_month']))\n",
    "\n",
    "for i in range(data_ROA.shape[0]):\n",
    "    record_id_ROA.append(str(data_ROA.iloc[i]['finance_cd']) + ' ' + str(data_ROA.iloc[i]['base_month']))    \n",
    "    \n",
    "for i in range(data_self.shape[0]):\n",
    "    record_id_self.append(str(data_self.iloc[i]['finance_cd']) + ' ' + str(data_self.iloc[i]['base_month']))    \n",
    "    \n",
    "    \n",
    "data_BIS['record_id'] = record_id_BIS\n",
    "data_Yeoshin['record_id'] = record_id_Yeoshin\n",
    "data_ROA['record_id'] = record_id_ROA\n",
    "data_self['record_id'] = record_id_self\n",
    "\n",
    "Merged_BIS_Yeoshin = pd.merge(data_BIS, data_Yeoshin, how=\"inner\", left_on = \"record_id\", right_on = \"record_id\")\n",
    "Merge_3 = pd.merge(Merged_BIS_Yeoshin, data_ROA, how=\"inner\", left_on = \"record_id\", right_on = \"record_id\")\n",
    "Merge_4 = pd.merge(Merge_3, data_self, how=\"inner\", left_on = \"record_id\", right_on = \"record_id\")\n",
    "\n",
    "Merge_4 = Merge_4[['base_month_x', 'finance_cd_x', 'finance_nm_x', 'BIS', 'Yeoshin', 'ROA', 'self']]\n",
    "Merge_4 = Merge_4.ix[:,[0,2,4,6,7,8,9]]\n",
    "\n",
    "\n",
    "# delete March, September\n",
    "check_month = []\n",
    "\n",
    "for i in range(Merge_4.shape[0]):\n",
    "    if Merge_4.iloc[i]['base_month_x'].split(\" \")[0] == \"3\" or Merge_4.iloc[i]['base_month_x'].split(\" \")[0] == \"9\":\n",
    "        check_month.append(i)\n",
    "\n",
    "deleted_Merge_4 = Merge_4.drop(check_month, 0)\n",
    "\n",
    "# sort by company, date\n",
    "date=[]\n",
    "\n",
    "for i in range(deleted_Merge_4.shape[0]):\n",
    "    if deleted_Merge_4.iloc[i]['base_month_x'].split(\" \")[0] == \"12\":\n",
    "        temp = deleted_Merge_4.iloc[i]['base_month_x'].split(\" \")[1] + \".\" + deleted_Merge_4.iloc[i]['base_month_x'].split(\" \")[0]\n",
    "    elif deleted_Merge_4.iloc[i]['base_month_x'].split(\" \")[0] == \"6\":\n",
    "        temp = deleted_Merge_4.iloc[i]['base_month_x'].split(\" \")[1] + \".0\" + deleted_Merge_4.iloc[i]['base_month_x'].split(\" \")[0]\n",
    "    date.append(float(temp))\n",
    "    \n",
    "deleted_Merge_4['date'] = date\n",
    "sorted_Merge_4 = deleted_Merge_4.sort_values(['finance_cd_x', 'date'], ascending =[True, True])\n",
    "\n",
    "\n",
    "# make predict variable \"weak\"\n",
    "weak = []\n",
    "for i in range(sorted_Merge_4.shape[0]-1):\n",
    "    if sorted_Merge_4.iloc[i+1]['finance_cd_x'] == sorted_Merge_4.iloc[i]['finance_cd_x']:    \n",
    "        if float(sorted_Merge_4.iloc[i+1]['self']) < 4:\n",
    "            weak.append(1)\n",
    "        else:\n",
    "            weak.append(0)\n",
    "    else:\n",
    "        weak.append(2)\n",
    "weak.append(2)\n",
    "sorted_Merge_4['weak'] = weak\n",
    "final_data = sorted_Merge_4[sorted_Merge_4.weak != 2]\n",
    "\n",
    "# change attribute's type to float64\n",
    "final_data['BIS'] = final_data['BIS'].apply(pd.to_numeric)\n",
    "\n",
    "\n",
    "#final_data.to_csv(\"sorted_data.csv\")"
   ]
  },
  {
   "cell_type": "code",
   "execution_count": 161,
   "metadata": {
    "collapsed": true
   },
   "outputs": [],
   "source": [
    "from sklearn.linear_model import LogisticRegression\n",
    "from sklearn import metrics\n",
    "from sklearn import cross_validation\n",
    "from sklearn.metrics import precision_recall_fscore_support\n",
    "from sklearn.ensemble import RandomForestClassifier\n",
    "from sklearn.preprocessing import StandardScaler"
   ]
  },
  {
   "cell_type": "code",
   "execution_count": 166,
   "metadata": {
    "collapsed": false
   },
   "outputs": [
    {
     "data": {
      "text/plain": [
       "'\\nsc = StandardScaler()\\nsc.fit(X_train)\\nX_train= sc.transform(X_train)\\nX_test= sc.transform(X_test)\\n'"
      ]
     },
     "execution_count": 166,
     "metadata": {},
     "output_type": "execute_result"
    }
   ],
   "source": [
    "#get X, Y for training\n",
    "\n",
    "X = final_data[['ROA', 'BIS', 'Yeoshin']]\n",
    "Y = final_data['weak']\n",
    "\n",
    "# seperate training and test set\n",
    "X_train, X_test, y_train, y_test= cross_validation.train_test_split(X, Y, test_size = .3, random_state = 1234)\n",
    "\n",
    "# normalizing\n",
    "'''\n",
    "sc = StandardScaler()\n",
    "sc.fit(X_train)\n",
    "X_train= sc.transform(X_train)\n",
    "X_test= sc.transform(X_test)\n",
    "'''\n",
    "\n"
   ]
  },
  {
   "cell_type": "code",
   "execution_count": 167,
   "metadata": {
    "collapsed": false
   },
   "outputs": [
    {
     "name": "stdout",
     "output_type": "stream",
     "text": [
      "train_score :  0.853503184713\n",
      "test_score :  0.899109792285\n",
      "0.899109792285 0.853503184713\n",
      "Classification report for test set...\n",
      "             precision    recall  f1-score   support\n",
      "\n",
      "          0       0.90      0.99      0.94       288\n",
      "          1       0.86      0.37      0.51        49\n",
      "\n",
      "avg / total       0.90      0.90      0.88       337\n",
      "\n",
      "Classification report for training set...\n",
      "             precision    recall  f1-score   support\n",
      "\n",
      "          0       0.87      0.97      0.91       636\n",
      "          1       0.74      0.36      0.48       149\n",
      "\n",
      "avg / total       0.84      0.85      0.83       785\n",
      "\n",
      "Confusion matrix for test set...\n",
      "[[285   3]\n",
      " [ 31  18]]\n",
      "Confusion matrix for training set...\n",
      "[[617  19]\n",
      " [ 96  53]]\n"
     ]
    }
   ],
   "source": [
    "\n",
    "# start logistic regression training\n",
    "lr = LogisticRegression(random_state = 1234)\n",
    "lr.fit(X_train, y_train)\n",
    "\n",
    "# show scores\n",
    "print(\"train_score : \", lr.score(X_train, y_train))\n",
    "print(\"test_score : \", lr.score(X_test, y_test))\n",
    "\n",
    "y_test_pred = lr.predict(X_test)\n",
    "y_train_pred = lr.predict(X_train)\n",
    "test_accuracy = metrics.accuracy_score(y_test, y_test_pred)\n",
    "train_accuracy = metrics.accuracy_score(y_train, y_train_pred)\n",
    "print(test_accuracy, train_accuracy)\n",
    "\n",
    "print(\"Classification report for test set...\")\n",
    "print(metrics.classification_report(y_test, y_test_pred))\n",
    "\n",
    "print(\"Classification report for training set...\")\n",
    "print(metrics.classification_report(y_train, y_train_pred))\n",
    "\n",
    "# 행:실제 분류   열: 분류기 분류\n",
    "print(\"Confusion matrix for test set...\")\n",
    "print(metrics.confusion_matrix(y_test, y_test_pred))\n",
    "\n",
    "print(\"Confusion matrix for training set...\")\n",
    "print(metrics.confusion_matrix(y_train, y_train_pred))"
   ]
  },
  {
   "cell_type": "code",
   "execution_count": 168,
   "metadata": {
    "collapsed": false
   },
   "outputs": [
    {
     "data": {
      "text/plain": [
       "RandomForestClassifier(bootstrap=True, class_weight=None, criterion='entropy',\n",
       "            max_depth=4, max_features='auto', max_leaf_nodes=None,\n",
       "            min_samples_leaf=1, min_samples_split=2,\n",
       "            min_weight_fraction_leaf=0.0, n_estimators=50, n_jobs=1,\n",
       "            oob_score=False, random_state=0, verbose=0, warm_start=False)"
      ]
     },
     "execution_count": 168,
     "metadata": {},
     "output_type": "execute_result"
    }
   ],
   "source": [
    "# random forest training\n",
    "\n",
    "rf = RandomForestClassifier(criterion=\"entropy\", n_estimators=50, max_depth = 4,random_state = 0  )\n",
    "rf.fit(X_train, y_train)"
   ]
  },
  {
   "cell_type": "code",
   "execution_count": 169,
   "metadata": {
    "collapsed": false
   },
   "outputs": [
    {
     "name": "stdout",
     "output_type": "stream",
     "text": [
      "train_score :  0.922292993631\n",
      "test_score :  0.910979228487\n",
      "0.910979228487 0.922292993631\n",
      "Classification report for test set...\n",
      "             precision    recall  f1-score   support\n",
      "\n",
      "          0       0.95      0.94      0.95       288\n",
      "          1       0.69      0.71      0.70        49\n",
      "\n",
      "avg / total       0.91      0.91      0.91       337\n",
      "\n",
      "Classification report for training set...\n",
      "             precision    recall  f1-score   support\n",
      "\n",
      "          0       0.95      0.95      0.95       636\n",
      "          1       0.80      0.79      0.79       149\n",
      "\n",
      "avg / total       0.92      0.92      0.92       785\n",
      "\n",
      "Confusion matrix for test set...\n",
      "[[272  16]\n",
      " [ 14  35]]\n",
      "Confusion matrix for training set...\n",
      "[[606  30]\n",
      " [ 31 118]]\n"
     ]
    }
   ],
   "source": [
    "# show scores\n",
    "print(\"train_score : \", rf.score(X_train, y_train))\n",
    "print(\"test_score : \", rf.score(X_test, y_test))\n",
    "\n",
    "y_test_pred = rf.predict(X_test)\n",
    "y_train_pred = rf.predict(X_train)\n",
    "test_accuracy = metrics.accuracy_score(y_test, y_test_pred)\n",
    "train_accuracy = metrics.accuracy_score(y_train, y_train_pred)\n",
    "print(test_accuracy, train_accuracy)\n",
    "\n",
    "print(\"Classification report for test set...\")\n",
    "print(metrics.classification_report(y_test, y_test_pred))\n",
    "\n",
    "print(\"Classification report for training set...\")\n",
    "print(metrics.classification_report(y_train, y_train_pred))\n",
    "\n",
    "# 행:실제 분류   열: 분류기 분류\n",
    "print(\"Confusion matrix for test set...\")\n",
    "print(metrics.confusion_matrix(y_test, y_test_pred))\n",
    "\n",
    "print(\"Confusion matrix for training set...\")\n",
    "print(metrics.confusion_matrix(y_train, y_train_pred))"
   ]
  },
  {
   "cell_type": "code",
   "execution_count": null,
   "metadata": {
    "collapsed": true
   },
   "outputs": [],
   "source": []
  }
 ],
 "metadata": {
  "anaconda-cloud": {},
  "kernelspec": {
   "display_name": "Python [default]",
   "language": "python",
   "name": "python3"
  },
  "language_info": {
   "codemirror_mode": {
    "name": "ipython",
    "version": 3
   },
   "file_extension": ".py",
   "mimetype": "text/x-python",
   "name": "python",
   "nbconvert_exporter": "python",
   "pygments_lexer": "ipython3",
   "version": "3.5.2"
  }
 },
 "nbformat": 4,
 "nbformat_minor": 2
}
